{
 "cells": [
  {
   "cell_type": "code",
   "execution_count": 102,
   "metadata": {},
   "outputs": [],
   "source": [
    "import pandas\n",
    "import random"
   ]
  },
  {
   "cell_type": "code",
   "execution_count": 109,
   "metadata": {},
   "outputs": [],
   "source": [
    "### Create the K means clustering algorithm\n",
    "k = 3\n",
    "data = [[1,3],[2,6],[10,30],[20,60],[11,62],[22,62]]"
   ]
  },
  {
   "cell_type": "code",
   "execution_count": 110,
   "metadata": {},
   "outputs": [],
   "source": [
    "def order_by_centroid(centroids):\n",
    "    orderedData = [[],[],[]]\n",
    "    ## find the distance to the centroids\n",
    "    for point in data:\n",
    "        dists = []\n",
    "        ## \n",
    "        for i in range(k):\n",
    "            dists.append(distance(point,centroids[i]))\n",
    "        orderedData[dists.index(min(dists))].append(point)\n",
    "    return orderedData\n",
    "    \n",
    "        \n",
    "def distance( point, cent):\n",
    "    return (cent[0] - point[0])**2 + (cent[1] - point[1])**2\n",
    "        \n",
    "def Update(orderedData):\n",
    "    new_cent = []\n",
    "    for i in range(k):\n",
    "        new_cent.append(averagePoints(orderedData[i]))\n",
    "    return new_cent\n",
    "        \n",
    "        \n",
    "def averagePoints(coors):\n",
    "    x = 0 \n",
    "    y = 0\n",
    "    count = 0\n",
    "    \n",
    "    for c in range(len(coors)):\n",
    "        x += coors[c][0]\n",
    "        y += coors[c][1]\n",
    "        count += 1\n",
    "    if (count == 0):\n",
    "        return (0,0)\n",
    "    else:\n",
    "        return (x/count, y/count)"
   ]
  },
  {
   "cell_type": "code",
   "execution_count": 111,
   "metadata": {},
   "outputs": [],
   "source": [
    "maxX = max(df[0])\n",
    "maxY = max(df[1])\n",
    "minX = min(df[0])\n",
    "minY = min(df[1])\n",
    "rangeX = maxX - minX\n",
    "rangeY = maxY - minY\n",
    "centroids = []\n",
    "\n",
    "for i in range(k):\n",
    "    centroids.append((random.random() * rangeX + minX, random.random() * rangeY + minY))\n"
   ]
  },
  {
   "cell_type": "code",
   "execution_count": 112,
   "metadata": {},
   "outputs": [
    {
     "data": {
      "text/plain": [
       "[[[20, 60], [11, 62], [22, 62]], [[1, 3], [2, 6]], [[10, 30]]]"
      ]
     },
     "execution_count": 112,
     "metadata": {},
     "output_type": "execute_result"
    }
   ],
   "source": [
    "order_by_centroid(centroids)\n",
    "new = Update(orderedData)\n",
    "order_by_centroid(new)\n",
    "new = Update(orderedData)\n",
    "order_by_centroid(new)"
   ]
  },
  {
   "cell_type": "code",
   "execution_count": null,
   "metadata": {},
   "outputs": [],
   "source": []
  },
  {
   "cell_type": "code",
   "execution_count": null,
   "metadata": {},
   "outputs": [],
   "source": []
  },
  {
   "cell_type": "code",
   "execution_count": null,
   "metadata": {},
   "outputs": [],
   "source": []
  }
 ],
 "metadata": {
  "kernelspec": {
   "display_name": "Python 3",
   "language": "python",
   "name": "python3"
  },
  "language_info": {
   "codemirror_mode": {
    "name": "ipython",
    "version": 3
   },
   "file_extension": ".py",
   "mimetype": "text/x-python",
   "name": "python",
   "nbconvert_exporter": "python",
   "pygments_lexer": "ipython3",
   "version": "3.7.3"
  }
 },
 "nbformat": 4,
 "nbformat_minor": 2
}
